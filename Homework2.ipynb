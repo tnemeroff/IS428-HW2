{
 "cells": [
  {
   "cell_type": "code",
   "execution_count": 5,
   "id": "6f2d9057-40ab-4245-a0c3-e18efc8c7f6a",
   "metadata": {},
   "outputs": [
    {
     "name": "stdout",
     "output_type": "stream",
     "text": [
      "Requirement already satisfied: pandas in c:\\users\\thadd\\is428 lab 1\\venv\\lib\\site-packages (2.0.3)\n",
      "Requirement already satisfied: pandas-profiling in c:\\users\\thadd\\is428 lab 1\\venv\\lib\\site-packages (3.6.6)\n",
      "Requirement already satisfied: python-dateutil>=2.8.2 in c:\\users\\thadd\\is428 lab 1\\venv\\lib\\site-packages (from pandas) (2.8.2)\n",
      "Requirement already satisfied: pytz>=2020.1 in c:\\users\\thadd\\is428 lab 1\\venv\\lib\\site-packages (from pandas) (2023.3.post1)\n",
      "Requirement already satisfied: tzdata>=2022.1 in c:\\users\\thadd\\is428 lab 1\\venv\\lib\\site-packages (from pandas) (2023.3)\n",
      "Requirement already satisfied: numpy>=1.20.3 in c:\\users\\thadd\\is428 lab 1\\venv\\lib\\site-packages (from pandas) (1.23.5)\n",
      "Requirement already satisfied: ydata-profiling in c:\\users\\thadd\\is428 lab 1\\venv\\lib\\site-packages (from pandas-profiling) (4.5.1)\n",
      "Requirement already satisfied: six>=1.5 in c:\\users\\thadd\\is428 lab 1\\venv\\lib\\site-packages (from python-dateutil>=2.8.2->pandas) (1.16.0)\n",
      "Requirement already satisfied: scipy<1.12,>=1.4.1 in c:\\users\\thadd\\is428 lab 1\\venv\\lib\\site-packages (from ydata-profiling->pandas-profiling) (1.11.2)\n",
      "Requirement already satisfied: matplotlib<4,>=3.2 in c:\\users\\thadd\\is428 lab 1\\venv\\lib\\site-packages (from ydata-profiling->pandas-profiling) (3.7.3)\n",
      "Requirement already satisfied: pydantic<2,>=1.8.1 in c:\\users\\thadd\\is428 lab 1\\venv\\lib\\site-packages (from ydata-profiling->pandas-profiling) (1.10.12)\n",
      "Requirement already satisfied: PyYAML<6.1,>=5.0.0 in c:\\users\\thadd\\is428 lab 1\\venv\\lib\\site-packages (from ydata-profiling->pandas-profiling) (6.0.1)\n",
      "Requirement already satisfied: jinja2<3.2,>=2.11.1 in c:\\users\\thadd\\is428 lab 1\\venv\\lib\\site-packages (from ydata-profiling->pandas-profiling) (3.1.2)\n",
      "Requirement already satisfied: visions[type_image_path]==0.7.5 in c:\\users\\thadd\\is428 lab 1\\venv\\lib\\site-packages (from ydata-profiling->pandas-profiling) (0.7.5)\n",
      "Requirement already satisfied: htmlmin==0.1.12 in c:\\users\\thadd\\is428 lab 1\\venv\\lib\\site-packages (from ydata-profiling->pandas-profiling) (0.1.12)\n",
      "Requirement already satisfied: phik<0.13,>=0.11.1 in c:\\users\\thadd\\is428 lab 1\\venv\\lib\\site-packages (from ydata-profiling->pandas-profiling) (0.12.3)\n",
      "Requirement already satisfied: requests<3,>=2.24.0 in c:\\users\\thadd\\is428 lab 1\\venv\\lib\\site-packages (from ydata-profiling->pandas-profiling) (2.31.0)\n",
      "Requirement already satisfied: tqdm<5,>=4.48.2 in c:\\users\\thadd\\is428 lab 1\\venv\\lib\\site-packages (from ydata-profiling->pandas-profiling) (4.66.1)\n",
      "Requirement already satisfied: seaborn<0.13,>=0.10.1 in c:\\users\\thadd\\is428 lab 1\\venv\\lib\\site-packages (from ydata-profiling->pandas-profiling) (0.12.2)\n",
      "Requirement already satisfied: multimethod<2,>=1.4 in c:\\users\\thadd\\is428 lab 1\\venv\\lib\\site-packages (from ydata-profiling->pandas-profiling) (1.9.1)\n",
      "Requirement already satisfied: statsmodels<1,>=0.13.2 in c:\\users\\thadd\\is428 lab 1\\venv\\lib\\site-packages (from ydata-profiling->pandas-profiling) (0.14.0)\n",
      "Requirement already satisfied: typeguard<3,>=2.13.2 in c:\\users\\thadd\\is428 lab 1\\venv\\lib\\site-packages (from ydata-profiling->pandas-profiling) (2.13.3)\n",
      "Requirement already satisfied: imagehash==4.3.1 in c:\\users\\thadd\\is428 lab 1\\venv\\lib\\site-packages (from ydata-profiling->pandas-profiling) (4.3.1)\n",
      "Requirement already satisfied: wordcloud>=1.9.1 in c:\\users\\thadd\\is428 lab 1\\venv\\lib\\site-packages (from ydata-profiling->pandas-profiling) (1.9.2)\n",
      "Requirement already satisfied: dacite>=1.8 in c:\\users\\thadd\\is428 lab 1\\venv\\lib\\site-packages (from ydata-profiling->pandas-profiling) (1.8.1)\n",
      "Requirement already satisfied: PyWavelets in c:\\users\\thadd\\is428 lab 1\\venv\\lib\\site-packages (from imagehash==4.3.1->ydata-profiling->pandas-profiling) (1.4.1)\n",
      "Requirement already satisfied: pillow in c:\\users\\thadd\\is428 lab 1\\venv\\lib\\site-packages (from imagehash==4.3.1->ydata-profiling->pandas-profiling) (10.0.0)\n",
      "Requirement already satisfied: attrs>=19.3.0 in c:\\users\\thadd\\is428 lab 1\\venv\\lib\\site-packages (from visions[type_image_path]==0.7.5->ydata-profiling->pandas-profiling) (23.1.0)\n",
      "Requirement already satisfied: networkx>=2.4 in c:\\users\\thadd\\is428 lab 1\\venv\\lib\\site-packages (from visions[type_image_path]==0.7.5->ydata-profiling->pandas-profiling) (3.1)\n",
      "Requirement already satisfied: tangled-up-in-unicode>=0.0.4 in c:\\users\\thadd\\is428 lab 1\\venv\\lib\\site-packages (from visions[type_image_path]==0.7.5->ydata-profiling->pandas-profiling) (0.2.0)\n",
      "Requirement already satisfied: MarkupSafe>=2.0 in c:\\users\\thadd\\is428 lab 1\\venv\\lib\\site-packages (from jinja2<3.2,>=2.11.1->ydata-profiling->pandas-profiling) (2.1.3)\n",
      "Requirement already satisfied: contourpy>=1.0.1 in c:\\users\\thadd\\is428 lab 1\\venv\\lib\\site-packages (from matplotlib<4,>=3.2->ydata-profiling->pandas-profiling) (1.1.0)\n",
      "Requirement already satisfied: cycler>=0.10 in c:\\users\\thadd\\is428 lab 1\\venv\\lib\\site-packages (from matplotlib<4,>=3.2->ydata-profiling->pandas-profiling) (0.11.0)\n",
      "Requirement already satisfied: fonttools>=4.22.0 in c:\\users\\thadd\\is428 lab 1\\venv\\lib\\site-packages (from matplotlib<4,>=3.2->ydata-profiling->pandas-profiling) (4.42.1)\n",
      "Requirement already satisfied: kiwisolver>=1.0.1 in c:\\users\\thadd\\is428 lab 1\\venv\\lib\\site-packages (from matplotlib<4,>=3.2->ydata-profiling->pandas-profiling) (1.4.5)\n",
      "Requirement already satisfied: packaging>=20.0 in c:\\users\\thadd\\is428 lab 1\\venv\\lib\\site-packages (from matplotlib<4,>=3.2->ydata-profiling->pandas-profiling) (23.1)\n",
      "Requirement already satisfied: pyparsing>=2.3.1 in c:\\users\\thadd\\is428 lab 1\\venv\\lib\\site-packages (from matplotlib<4,>=3.2->ydata-profiling->pandas-profiling) (3.1.1)\n",
      "Requirement already satisfied: importlib-resources>=3.2.0 in c:\\users\\thadd\\is428 lab 1\\venv\\lib\\site-packages (from matplotlib<4,>=3.2->ydata-profiling->pandas-profiling) (6.0.1)\n",
      "Requirement already satisfied: joblib>=0.14.1 in c:\\users\\thadd\\is428 lab 1\\venv\\lib\\site-packages (from phik<0.13,>=0.11.1->ydata-profiling->pandas-profiling) (1.3.2)\n",
      "Requirement already satisfied: typing-extensions>=4.2.0 in c:\\users\\thadd\\is428 lab 1\\venv\\lib\\site-packages (from pydantic<2,>=1.8.1->ydata-profiling->pandas-profiling) (4.7.1)\n",
      "Requirement already satisfied: charset-normalizer<4,>=2 in c:\\users\\thadd\\is428 lab 1\\venv\\lib\\site-packages (from requests<3,>=2.24.0->ydata-profiling->pandas-profiling) (3.2.0)\n",
      "Requirement already satisfied: idna<4,>=2.5 in c:\\users\\thadd\\is428 lab 1\\venv\\lib\\site-packages (from requests<3,>=2.24.0->ydata-profiling->pandas-profiling) (3.4)\n",
      "Requirement already satisfied: urllib3<3,>=1.21.1 in c:\\users\\thadd\\is428 lab 1\\venv\\lib\\site-packages (from requests<3,>=2.24.0->ydata-profiling->pandas-profiling) (2.0.4)\n",
      "Requirement already satisfied: certifi>=2017.4.17 in c:\\users\\thadd\\is428 lab 1\\venv\\lib\\site-packages (from requests<3,>=2.24.0->ydata-profiling->pandas-profiling) (2023.7.22)\n",
      "Requirement already satisfied: patsy>=0.5.2 in c:\\users\\thadd\\is428 lab 1\\venv\\lib\\site-packages (from statsmodels<1,>=0.13.2->ydata-profiling->pandas-profiling) (0.5.3)\n",
      "Requirement already satisfied: colorama in c:\\users\\thadd\\is428 lab 1\\venv\\lib\\site-packages (from tqdm<5,>=4.48.2->ydata-profiling->pandas-profiling) (0.4.6)\n",
      "Requirement already satisfied: zipp>=3.1.0 in c:\\users\\thadd\\is428 lab 1\\venv\\lib\\site-packages (from importlib-resources>=3.2.0->matplotlib<4,>=3.2->ydata-profiling->pandas-profiling) (3.16.2)\n"
     ]
    },
    {
     "name": "stderr",
     "output_type": "stream",
     "text": [
      "\n",
      "[notice] A new release of pip is available: 23.2.1 -> 23.3.1\n",
      "[notice] To update, run: python.exe -m pip install --upgrade pip\n"
     ]
    },
    {
     "data": {
      "application/vnd.jupyter.widget-view+json": {
       "model_id": "5866c6bcec0a4c45b8f13c429b7171d1",
       "version_major": 2,
       "version_minor": 0
      },
      "text/plain": [
       "Summarize dataset:   0%|          | 0/5 [00:00<?, ?it/s]"
      ]
     },
     "metadata": {},
     "output_type": "display_data"
    },
    {
     "data": {
      "application/vnd.jupyter.widget-view+json": {
       "model_id": "850f0cf11df142eb80f760a4b41e6b40",
       "version_major": 2,
       "version_minor": 0
      },
      "text/plain": [
       "Generate report structure:   0%|          | 0/1 [00:00<?, ?it/s]"
      ]
     },
     "metadata": {},
     "output_type": "display_data"
    },
    {
     "data": {
      "application/vnd.jupyter.widget-view+json": {
       "model_id": "e0ab8bb032434004a0e62a960c02c56e",
       "version_major": 2,
       "version_minor": 0
      },
      "text/plain": [
       "Render HTML:   0%|          | 0/1 [00:00<?, ?it/s]"
      ]
     },
     "metadata": {},
     "output_type": "display_data"
    },
    {
     "data": {
      "application/vnd.jupyter.widget-view+json": {
       "model_id": "7af6349573d84b0aa6dc1fee424b6e56",
       "version_major": 2,
       "version_minor": 0
      },
      "text/plain": [
       "Export report to file:   0%|          | 0/1 [00:00<?, ?it/s]"
      ]
     },
     "metadata": {},
     "output_type": "display_data"
    }
   ],
   "source": [
    "!pip install pandas pandas-profiling\n",
    "import pandas as pd\n",
    "from pandas_profiling import ProfileReport\n",
    "\n",
    "#from a previous lab\n",
    "#Populate Data Frame\n",
    "df = pd.read_csv(\"red_wine.csv\")\n",
    "\n",
    "# Create a profile report\n",
    "profile = ProfileReport(df)\n",
    "\n",
    "# Output HTML report file\n",
    "profile.to_file(\"red-wine-report.html\")\n"
   ]
  },
  {
   "cell_type": "code",
   "execution_count": 19,
   "id": "d7317ec3-fdf8-4eb6-8ad6-34e8e344d5fb",
   "metadata": {},
   "outputs": [
    {
     "name": "stdout",
     "output_type": "stream",
     "text": [
      "Baseline (Dummy):\n",
      "  Mean Accuracy: 0.5290683605565637\n",
      "  Mean AUC: 0.5\n",
      "Logistic Regression:\n",
      "  Mean Accuracy: 0.7881125226860254\n",
      "  Mean AUC: 0.7888253370610229\n",
      "Naive Bayes:\n",
      "  Mean Accuracy: 0.8196612220205687\n",
      "  Mean AUC: 0.8238765537556152\n",
      "Decision Tree:\n",
      "  Mean Accuracy: 0.8125529340592861\n",
      "  Mean AUC: 0.8257244491590257\n",
      "SVM Linear:\n",
      "  Mean Accuracy: 0.7933756805807622\n",
      "  Mean AUC: 0.7970554752766421\n",
      "SVM RBF:\n",
      "  Mean Accuracy: 0.5413490623109497\n",
      "  Mean AUC: 0.5175250626566416\n",
      "Random Forest:\n",
      "  Mean Accuracy: 0.8476406533575318\n",
      "  Mean AUC: 0.8443481533237109\n"
     ]
    }
   ],
   "source": [
    "import pandas as pd\n",
    "from sklearn.model_selection import cross_val_score, KFold\n",
    "from sklearn.preprocessing import LabelEncoder\n",
    "from sklearn.linear_model import LogisticRegression\n",
    "from sklearn.naive_bayes import GaussianNB\n",
    "from sklearn.tree import DecisionTreeClassifier\n",
    "from sklearn.svm import SVC\n",
    "from sklearn.ensemble import RandomForestClassifier\n",
    "from sklearn.dummy import DummyClassifier\n",
    "from sklearn.metrics import make_scorer, accuracy_score, roc_auc_score\n",
    "\n",
    "# Load\n",
    "df = pd.read_csv(\"red_wine.csv\")\n",
    "\n",
    "# Preprocess the 'type' column with label encoding\n",
    "le = LabelEncoder()\n",
    "df['type'] = le.fit_transform(df['type'])\n",
    "\n",
    "# Define features and target\n",
    "#features\n",
    "X = df[['citric acid', 'sulphates', 'alcohol']]\n",
    "#target\n",
    "y = df['type']\n",
    "\n",
    "# Models to evaluate - to be iterated through a for loop\n",
    "models = {\n",
    "    #OneR dummy classifier from scikit used here\n",
    "    'Baseline (Dummy)':  DummyClassifier(strategy=\"most_frequent\"),\n",
    "    'Logistic Regression': LogisticRegression(),\n",
    "    'Naive Bayes': GaussianNB(),\n",
    "    'Decision Tree': DecisionTreeClassifier(),\n",
    "    'SVM Linear': SVC(kernel='linear'),\n",
    "    'SVM RBF': SVC(kernel='rbf'),\n",
    "    'Random Forest': RandomForestClassifier()\n",
    "}\n",
    "\n",
    "# Perform 10-fold cross-validation for each (god i love for loops)\n",
    "results = {}\n",
    "for model_name, model in models.items():\n",
    "    if model is None:\n",
    "        print(\"Error Fetching Model From Dictionary\")\n",
    "    else:\n",
    "        kfold = KFold(n_splits=10, shuffle=True, random_state=42)\n",
    "        accuracy_scores = cross_val_score(model, X, y, cv=kfold, scoring='accuracy')\n",
    "        auc_scores = cross_val_score(model, X, y, cv=kfold, scoring=make_scorer(roc_auc_score))\n",
    "    \n",
    "    results[model_name] = {\n",
    "        'Accuracy': accuracy_scores,\n",
    "        'AUC': auc_scores\n",
    "    }\n",
    "\n",
    "# Display the performance metrics\n",
    "for model_name, metrics in results.items():\n",
    "    print(f\"{model_name}:\")\n",
    "    auc_mean = sum(metrics['AUC']) / 10\n",
    "    accuracy_mean = sum(metrics['Accuracy']) / 10\n",
    "    print(f\"  Mean Accuracy: {accuracy_mean}\")\n",
    "    print(f\"  Mean AUC: {auc_mean}\")\n"
   ]
  },
  {
   "cell_type": "code",
   "execution_count": 25,
   "id": "f0f61223-8294-4338-a580-477058a56fe0",
   "metadata": {},
   "outputs": [
    {
     "data": {
      "image/png": "[encoded data removed]",
      "text/plain": [
       "<Figure size 800x600 with 1 Axes>"
      ]
     },
     "metadata": {},
     "output_type": "display_data"
    }
   ],
   "source": [
    "import pandas as pd\n",
    "from sklearn.ensemble import RandomForestClassifier\n",
    "from sklearn.model_selection import train_test_split\n",
    "from sklearn.metrics import roc_curve, roc_auc_score, auc\n",
    "import matplotlib.pyplot as plt\n",
    "\n",
    "#copied from above\n",
    "# Load\n",
    "df = pd.read_csv(\"red_wine.csv\")\n",
    "\n",
    "# Preprocess the 'type' column with label encoding\n",
    "le = LabelEncoder()\n",
    "df['type'] = le.fit_transform(df['type'])\n",
    "\n",
    "# Define features and target\n",
    "X = df[['citric acid', 'sulphates', 'alcohol']]\n",
    "y = df['type']\n",
    "\n",
    "# Not sure if I do this here or run it through again - Split the data into training and testing sets\n",
    "X_train, X_test, y_train, y_test = train_test_split(X, y, test_size=0.2, random_state=42)\n",
    "\n",
    "# Create and fit a Random Forest Classifier\n",
    "rf_classifier = RandomForestClassifier(n_estimators=100, random_state=42)\n",
    "rf_classifier.fit(X_train, y_train)\n",
    "\n",
    "# Predict probabilities\n",
    "y_probs = rf_classifier.predict_proba(X_test)[:, 1]\n",
    "\n",
    "# ROC curve\n",
    "fpr, tpr, thresholds = roc_curve(y_test, y_probs)\n",
    "\n",
    "# Calculate AUC\n",
    "roc_auc = auc(fpr, tpr)\n",
    "\n",
    "# Set Matplotlib backend to inline mode - fix from previous lab\n",
    "%matplotlib inline\n",
    "\n",
    "# Plot the ROC curve - copied from lab\n",
    "plt.figure(figsize=(8, 6))\n",
    "plt.plot(fpr, tpr, color='darkorange', lw=2, label='ROC curve (area = {:.2f})'.format(roc_auc))\n",
    "plt.plot([0, 1], [0, 1], color='navy', lw=2, linestyle='--')\n",
    "plt.xlim([0.0, 1.0])\n",
    "plt.ylim([0.0, 1.05])\n",
    "plt.xlabel('False Positive Rate')\n",
    "plt.ylabel('True Positive Rate')\n",
    "plt.title('Receiver Operating Characteristic (ROC)')\n",
    "plt.legend(loc='lower right')\n",
    "plt.show()\n",
    "\n"
   ]
  },
  {
   "cell_type": "code",
   "execution_count": 26,
   "id": "da99a568-1fcb-48de-9d74-efb877bc2dd9",
   "metadata": {},
   "outputs": [
    {
     "name": "stdout",
     "output_type": "stream",
     "text": [
      "AUC Score for white_wine.csv: 0.9204435872709739\n"
     ]
    }
   ],
   "source": [
    "import pandas as pd\n",
    "from sklearn.ensemble import RandomForestClassifier\n",
    "from sklearn.metrics import roc_auc_score\n",
    "\n",
    "# Load\n",
    "white_wine_df = pd.read_csv(\"white_wine.csv\")\n",
    "\n",
    "# Preprocess the 'type' column with label encoding (similar to the 'red-wine.csv' dataset)\n",
    "le = LabelEncoder()\n",
    "white_wine_df['type'] = le.fit_transform(white_wine_df['type'])\n",
    "\n",
    "# Define features and target\n",
    "#features\n",
    "X_white_wine = white_wine_df[['citric acid', 'sulphates', 'alcohol']]\n",
    "#target\n",
    "y_white_wine = white_wine_df['type']\n",
    "\n",
    "# Use the trained Random Forest Classifier from above problem to make predictions\n",
    "y_probs_white_wine = rf_classifier.predict_proba(X_white_wine)[:, 1]\n",
    "\n",
    "# Calculate AUC score for the white wine\n",
    "auc_score_white_wine = roc_auc_score(y_white_wine, y_probs_white_wine)\n",
    "\n",
    "print(\"AUC Score for white_wine.csv:\", auc_score_white_wine)\n"
   ]
  },
  {
   "cell_type": "code",
   "execution_count": null,
   "id": "996c2a16-cee7-43cc-9bb4-e74061cf2e7a",
   "metadata": {},
   "outputs": [],
   "source": []
  }
 ],
 "metadata": {
  "kernelspec": {
   "display_name": "Python 3 (ipykernel)",
   "language": "python",
   "name": "python3"
  },
  "language_info": {
   "codemirror_mode": {
    "name": "ipython",
    "version": 3
   },
   "file_extension": ".py",
   "mimetype": "text/x-python",
   "name": "python",
   "nbconvert_exporter": "python",
   "pygments_lexer": "ipython3",
   "version": "3.9.1"
  }
 },
 "nbformat": 4,
 "nbformat_minor": 5
}
